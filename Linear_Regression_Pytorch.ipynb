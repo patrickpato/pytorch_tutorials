{
 "cells": [
  {
   "cell_type": "markdown",
   "metadata": {},
   "source": [
    "PyTorch Model Design Steps\n",
    "* designing model(input size, outputsize, forward pass) ==> construction of loss and optmizer ==> training loop"
   ]
  },
  {
   "cell_type": "code",
   "execution_count": 1,
   "metadata": {},
   "outputs": [],
   "source": [
    "import torch\n",
    "import torch.nn as nn "
   ]
  },
  {
   "cell_type": "code",
   "execution_count": 12,
   "metadata": {},
   "outputs": [],
   "source": [
    "#example: f=2*x: \n",
    "X = torch.tensor([[1],[2],[3],[4]], dtype=torch.float32)\n",
    "y = torch.tensor([[2], [4], [6], [8]], dtype=torch.float32)\n",
    "#X and Y has to be 2d\n",
    "test_sample = torch.tensor([5], dtype=torch.float32)\n",
    "n_samples, n_features = X.shape"
   ]
  },
  {
   "cell_type": "code",
   "execution_count": 13,
   "metadata": {},
   "outputs": [
    {
     "name": "stdout",
     "output_type": "stream",
     "text": [
      "Prediction before training: f() = 1.008\n"
     ]
    }
   ],
   "source": [
    "input_size = n_features\n",
    "output_size = n_features\n",
    "model = nn.Linear(input_size, output_size)\n",
    "#getting predictions\n",
    "print (f'Prediction before training: f() = {model(test_sample).item() :.3f}')"
   ]
  },
  {
   "cell_type": "markdown",
   "metadata": {},
   "source": [
    "Computing the gradients manually:\n",
    "Note that the formula for the mean squared error is: \n",
    "$ J = 1/n * (wx -y)^2$\n",
    "Numerical competition of the gradient of w is therefore given by:\n",
    "$ dJ/dw = 1/N*2x(wx-y)$ *note x and y are constants"
   ]
  },
  {
   "cell_type": "code",
   "execution_count": 14,
   "metadata": {},
   "outputs": [
    {
     "name": "stdout",
     "output_type": "stream",
     "text": [
      "epoch 1: w=0.596, loss=26.38856125\n",
      "epoch 11: w=1.772, loss=0.68274188\n",
      "epoch 21: w=1.962, loss=0.01767081\n",
      "epoch 31: w=1.992, loss=0.00046340\n",
      "epoch 41: w=1.997, loss=0.00001784\n",
      "epoch 51: w=1.998, loss=0.00000597\n",
      "epoch 61: w=1.998, loss=0.00000535\n",
      "epoch 71: w=1.998, loss=0.00000503\n",
      "epoch 81: w=1.998, loss=0.00000473\n",
      "epoch 91: w=1.998, loss=0.00000446\n",
      "Prediction after training: f() = 9.996\n"
     ]
    }
   ],
   "source": [
    "#implementing the training\n",
    "lr = 0.01\n",
    "n_iters = 100\n",
    "#training loop\n",
    "loss = nn.MSELoss() #using Pytorch's implementation of mse\n",
    "optimizer = torch.optim.SGD(model.parameters(), lr=lr) #optimizer to optimize and update our weights\n",
    "for epoch in range(n_iters):\n",
    "    #prediction which is the forward pass\n",
    "    y_prediction = model(X)\n",
    "    l = loss(y, y_prediction)\n",
    "    #gradients\n",
    "    l.backward() #dl/dw\n",
    "    #dw = w.grad\n",
    "    #updating our weights:: shouldn't part of computation graph\n",
    "    optimizer.step() #performing an optimization step\n",
    "    #emptying our gradients to avoid accumulation\n",
    "    optimizer.zero_grad()\n",
    "    if epoch%10 == 0:\n",
    "        [w, b] = model.parameters() #will retun list of list\n",
    "        print(f'epoch {epoch+1}: w={w[0][0].item():.3f}, loss={l:.8f}')\n",
    "print (f'Prediction after training: f() = {model(test_sample).item() :.3f}')"
   ]
  },
  {
   "cell_type": "code",
   "execution_count": 17,
   "metadata": {},
   "outputs": [],
   "source": [
    "#custom linear regression model\n",
    "class LinearRegression(nn.Module):\n",
    "    def __init__(self, input_dim, output_dim):\n",
    "        super(LinearRegression, self).__init__()\n",
    "        #defining the layers\n",
    "        self.lin = nn.Linear(input_dim, output_dim)\n",
    "    def forward(self, x):\n",
    "        return self.lin(x)\n",
    "model = LinearRegression(input_size, output_size)"
   ]
  },
  {
   "cell_type": "code",
   "execution_count": 18,
   "metadata": {},
   "outputs": [
    {
     "name": "stdout",
     "output_type": "stream",
     "text": [
      "epoch 1: w=0.366, loss=22.45846939\n",
      "epoch 11: w=1.458, loss=0.73970139\n",
      "epoch 21: w=1.641, loss=0.16855136\n",
      "epoch 31: w=1.679, loss=0.14507772\n",
      "epoch 41: w=1.693, loss=0.13627990\n",
      "epoch 51: w=1.703, loss=0.12833849\n",
      "epoch 61: w=1.711, loss=0.12086832\n",
      "epoch 71: w=1.720, loss=0.11383314\n",
      "epoch 81: w=1.728, loss=0.10720748\n",
      "epoch 91: w=1.736, loss=0.10096740\n",
      "Prediction after training: f() = 9.471\n"
     ]
    }
   ],
   "source": [
    "#implementing the training\n",
    "lr = 0.01\n",
    "n_iters = 100\n",
    "#training loop\n",
    "loss = nn.MSELoss() #using Pytorch's implementation of mse\n",
    "optimizer = torch.optim.SGD(model.parameters(), lr=lr) #optimizer to optimize and update our weights\n",
    "for epoch in range(n_iters):\n",
    "    #prediction which is the forward pass\n",
    "    y_prediction = model(X)\n",
    "    l = loss(y, y_prediction)\n",
    "    #gradients\n",
    "    l.backward() #dl/dw\n",
    "    #dw = w.grad\n",
    "    #updating our weights:: shouldn't part of computation graph\n",
    "    optimizer.step() #performing an optimization step\n",
    "    #emptying our gradients to avoid accumulation\n",
    "    optimizer.zero_grad()\n",
    "    if epoch%10 == 0:\n",
    "        [w, b] = model.parameters() #will retun list of list\n",
    "        print(f'epoch {epoch+1}: w={w[0][0].item():.3f}, loss={l:.8f}')\n",
    "print (f'Prediction after training: f() = {model(test_sample).item() :.3f}')"
   ]
  },
  {
   "cell_type": "code",
   "execution_count": null,
   "metadata": {},
   "outputs": [],
   "source": []
  }
 ],
 "metadata": {
  "kernelspec": {
   "display_name": "Python 3",
   "language": "python",
   "name": "python3"
  },
  "language_info": {
   "codemirror_mode": {
    "name": "ipython",
    "version": 3
   },
   "file_extension": ".py",
   "mimetype": "text/x-python",
   "name": "python",
   "nbconvert_exporter": "python",
   "pygments_lexer": "ipython3",
   "version": "3.6.9"
  }
 },
 "nbformat": 4,
 "nbformat_minor": 4
}
