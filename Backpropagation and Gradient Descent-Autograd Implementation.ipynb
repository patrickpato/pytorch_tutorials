{
 "cells": [
  {
   "cell_type": "markdown",
   "metadata": {},
   "source": [
    "Using linear regression to perform backpropagation and gradient descent. \n",
    "Linear regression basic formula: y = wx\n",
    "w=weights\n",
    "Implementation using torch, objective is to replace the manual computation of the gradient with the autograd function torch"
   ]
  },
  {
   "cell_type": "code",
   "execution_count": 1,
   "metadata": {},
   "outputs": [],
   "source": [
    "import torch"
   ]
  },
  {
   "cell_type": "code",
   "execution_count": 14,
   "metadata": {},
   "outputs": [],
   "source": [
    "#example: f=2*x: \n",
    "X = torch.tensor([1,2,3,4], dtype=torch.float32)\n",
    "y = torch.tensor([2, 4, 6, 8], dtype=torch.float32)\n",
    "w = torch.tensor(0.0, dtype=torch.float32, requires_grad=True)"
   ]
  },
  {
   "cell_type": "markdown",
   "metadata": {},
   "source": [
    "### Autograd Implementation of Gradient Descent"
   ]
  },
  {
   "cell_type": "code",
   "execution_count": 22,
   "metadata": {},
   "outputs": [],
   "source": [
    "#Objective: define a linear regression function that will act as the forward pass\n",
    "def forward_pass(x):\n",
    "    yhat = (x*w)\n",
    "    return yhat\n",
    "def loss(y,yhat):\n",
    "    return ((yhat-y)**2).mean()\n"
   ]
  },
  {
   "cell_type": "markdown",
   "metadata": {},
   "source": [
    "Computing the gradients manually:\n",
    "Note that the formula for the mean squared error is: \n",
    "$ J = 1/n * (wx -y)^2$\n",
    "Numerical competition of the gradient of w is therefore given by:\n",
    "$ dJ/dw = 1/N*2x(wx-y)$ *note x and y are constants"
   ]
  },
  {
   "cell_type": "code",
   "execution_count": 23,
   "metadata": {},
   "outputs": [
    {
     "name": "stdout",
     "output_type": "stream",
     "text": [
      "Prediction before training: f(5) = 7.050\n"
     ]
    }
   ],
   "source": [
    "#printing out a dummy input before training\n",
    "print(f\"Prediction before training: f(5) = {forward_pass(5):.3f}\")"
   ]
  },
  {
   "cell_type": "code",
   "execution_count": 28,
   "metadata": {},
   "outputs": [
    {
     "name": "stdout",
     "output_type": "stream",
     "text": [
      "epoch 1: w=2.000, loss=0.00000000\n",
      "epoch 11: w=2.000, loss=0.00000000\n",
      "epoch 21: w=2.000, loss=0.00000000\n",
      "epoch 31: w=2.000, loss=0.00000000\n",
      "epoch 41: w=2.000, loss=0.00000000\n",
      "epoch 51: w=2.000, loss=0.00000000\n",
      "epoch 61: w=2.000, loss=0.00000000\n",
      "epoch 71: w=2.000, loss=0.00000000\n",
      "epoch 81: w=2.000, loss=0.00000000\n",
      "epoch 91: w=2.000, loss=0.00000000\n",
      "Prediction after training: f(5) = 10.000\n"
     ]
    }
   ],
   "source": [
    "#implementing the training\n",
    "lr = 0.01\n",
    "n_iters = 100\n",
    "#training loop\n",
    "for epoch in range(n_iters):\n",
    "    #prediction which is the forward pass\n",
    "    y_prediction = forward_pass(X)\n",
    "    l = loss(y, y_prediction)\n",
    "    #gradients\n",
    "    l.backward() #dl/dw\n",
    "    #dw = w.grad\n",
    "    #updating our weights:: shouldn't part of computation graph\n",
    "    with torch.no_grad():\n",
    "        w -= lr*w.grad\n",
    "    #emptying our gradients to avoid accumulation\n",
    "    w.grad.zero_()\n",
    "    if epoch%10 == 0:\n",
    "        print(f'epoch {epoch+1}: w={w:.3f}, loss={l:.8f}')\n",
    "print(f\"Prediction after training: f(5) = {forward_pass(5):.3f}\")"
   ]
  },
  {
   "cell_type": "code",
   "execution_count": null,
   "metadata": {},
   "outputs": [],
   "source": []
  }
 ],
 "metadata": {
  "kernelspec": {
   "display_name": "Python 3",
   "language": "python",
   "name": "python3"
  },
  "language_info": {
   "codemirror_mode": {
    "name": "ipython",
    "version": 3
   },
   "file_extension": ".py",
   "mimetype": "text/x-python",
   "name": "python",
   "nbconvert_exporter": "python",
   "pygments_lexer": "ipython3",
   "version": "3.6.9"
  }
 },
 "nbformat": 4,
 "nbformat_minor": 4
}
