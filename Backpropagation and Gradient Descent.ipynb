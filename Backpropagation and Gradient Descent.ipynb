{
 "cells": [
  {
   "cell_type": "markdown",
   "metadata": {},
   "source": [
    "Using linear regression to perform backpropagation and gradient descent. \n",
    "Linear regression basic formula: y = wx\n",
    "w=weights"
   ]
  },
  {
   "cell_type": "code",
   "execution_count": 3,
   "metadata": {},
   "outputs": [],
   "source": [
    "import numpy as np"
   ]
  },
  {
   "cell_type": "code",
   "execution_count": 4,
   "metadata": {},
   "outputs": [],
   "source": [
    "#example: f=2*x: \n",
    "X = np.array([1, 2, 3, 4], dtype=np.float32)\n",
    "y = np.array([2, 4, 6 ,8], dtype=np.float32)\n",
    "#starting with initially zero weights\n",
    "w = 0.0"
   ]
  },
  {
   "cell_type": "markdown",
   "metadata": {},
   "source": [
    "### Manual Implementation of Gradient Descent"
   ]
  },
  {
   "cell_type": "code",
   "execution_count": 7,
   "metadata": {},
   "outputs": [],
   "source": [
    "#Objective: define a linear regression function that will act as the forward pass\n",
    "def forward_pass(x):\n",
    "    yhat = np.multiply(x,w)\n",
    "    return yhat\n",
    "def loss(y,yhat):\n",
    "    return ((yhat-y)**2).mean()\n"
   ]
  },
  {
   "cell_type": "markdown",
   "metadata": {},
   "source": [
    "Computing the gradients manually:\n",
    "Note that the formula for the mean squared error is: \n",
    "$ J = 1/n * (wx -y)^2$\n",
    "Numerical competition of the gradient of w is therefore given by:\n",
    "$ dJ/dw = 1/N*2x(wx-y)$ *note x and y are constants"
   ]
  },
  {
   "cell_type": "code",
   "execution_count": 8,
   "metadata": {},
   "outputs": [],
   "source": [
    "def gradient(x, y, yhat):\n",
    "    return  np.dot(2*x, yhat-y).mean()\n"
   ]
  },
  {
   "cell_type": "code",
   "execution_count": 9,
   "metadata": {},
   "outputs": [
    {
     "name": "stdout",
     "output_type": "stream",
     "text": [
      "Prediction before training: f(5) = 0.000\n"
     ]
    }
   ],
   "source": [
    "#printing out a dummy input before training\n",
    "print(f\"Prediction before training: f(5) = {forward_pass(5):.3f}\")"
   ]
  },
  {
   "cell_type": "code",
   "execution_count": 10,
   "metadata": {},
   "outputs": [
    {
     "name": "stdout",
     "output_type": "stream",
     "text": [
      "epoch 1: w=1.200, loss=30.00000000\n",
      "epoch 2: w=1.680, loss=4.79999924\n",
      "epoch 3: w=1.872, loss=0.76800019\n",
      "epoch 4: w=1.949, loss=0.12288000\n",
      "epoch 5: w=1.980, loss=0.01966083\n",
      "epoch 6: w=1.992, loss=0.00314574\n",
      "epoch 7: w=1.997, loss=0.00050331\n",
      "epoch 8: w=1.999, loss=0.00008053\n",
      "epoch 9: w=1.999, loss=0.00001288\n",
      "epoch 10: w=2.000, loss=0.00000206\n",
      "Prediction after training: f(5) = 9.999\n"
     ]
    }
   ],
   "source": [
    "#implementing the training\n",
    "lr = 0.01\n",
    "n_iters = 10\n",
    "#training loop\n",
    "for epoch in range(n_iters):\n",
    "    #prediction which is the forward pass\n",
    "    y_prediction = forward_pass(X)\n",
    "    l = loss(y, y_prediction)\n",
    "    #gradients\n",
    "    dw = gradient(X, y, y_prediction)\n",
    "    #updating our weights\n",
    "    w -= dw*lr\n",
    "    if epoch%1 == 0:\n",
    "        print(f'epoch {epoch+1}: w={w:.3f}, loss={l:.8f}')\n",
    "print(f\"Prediction after training: f(5) = {forward_pass(5):.3f}\")"
   ]
  },
  {
   "cell_type": "code",
   "execution_count": null,
   "metadata": {},
   "outputs": [],
   "source": []
  }
 ],
 "metadata": {
  "kernelspec": {
   "display_name": "Python 3",
   "language": "python",
   "name": "python3"
  },
  "language_info": {
   "codemirror_mode": {
    "name": "ipython",
    "version": 3
   },
   "file_extension": ".py",
   "mimetype": "text/x-python",
   "name": "python",
   "nbconvert_exporter": "python",
   "pygments_lexer": "ipython3",
   "version": "3.6.9"
  }
 },
 "nbformat": 4,
 "nbformat_minor": 4
}
